{
 "cells": [
  {
   "cell_type": "markdown",
   "metadata": {},
   "source": [
    "# Lab 4_1_ Развертывание веб-приложения машинного обучения "
   ]
  },
  {
   "cell_type": "markdown",
   "metadata": {},
   "source": [
    "# Streamlit\n",
    "\n",
    "Streamlit - это быстрый способ создать приложение для обработки данных\n",
    "\n",
    "Допустим, вам нужно быстро создать приложение для обработки данных. Он может прогуляться в себя панель инструментов и работать с моделью. Или, если вам нужен быстрый прототип для демонстрации заказчику, что можно сделать за несколько часов и бесплатно.\n",
    "\n",
    "Streamlit идеально подходит для этих задач. \n",
    "\n",
    "ВСделаем очень простой дашборд с выбором типа ирисов и построением гистограмм. Также в Streamlit вы можете обучать и создавать модели вывода."
   ]
  },
  {
   "cell_type": "code",
   "execution_count": null,
   "metadata": {},
   "outputs": [],
   "source": [
    "### УСТАНОВКА\n",
    "##pip install streamlit"
   ]
  },
  {
   "cell_type": "markdown",
   "metadata": {},
   "source": [
    "В этих строках мы импортируем библиотеки streamlit и pandas, назначая им, соответственно, псевдонимы st и pd. Мы, кроме того, импортируем пакет datasets из библиотеки scikit-learn (sklearn). Мы воспользуемся этим пакетом ниже, в команде iris = datasets.load_iris(), для загрузки интересующего нас набора данных. И наконец, тут мы импортируем функцию RandomForestClassifier() из пакета sklearn.ensemble."
   ]
  },
  {
   "cell_type": "code",
   "execution_count": 147,
   "metadata": {},
   "outputs": [],
   "source": [
    "import streamlit as st\n",
    "import pandas as pd\n",
    "from sklearn import datasets\n",
    "from sklearn.ensemble import RandomForestClassifier\n",
    "import numpy as np\n",
    "import pylab as plt\n",
    "import seaborn as sns"
   ]
  },
  {
   "cell_type": "markdown",
   "metadata": {},
   "source": [
    "В этой строке мы описываем заголовок боковой панели, используя функцию st.sidebar.header(). Обратите внимание на то, что тут sidebar стоит между st и header(), что и даёт полное имя функции st.sidebar.header(). Эта функция сообщает библиотеке streamlit о том, что мы хотим поместить заголовок в боковую панель."
   ]
  },
  {
   "cell_type": "code",
   "execution_count": 148,
   "metadata": {},
   "outputs": [
    {
     "data": {
      "text/plain": [
       "<streamlit.delta_generator.DeltaGenerator at 0x12685ba6408>"
      ]
     },
     "execution_count": 148,
     "metadata": {},
     "output_type": "execute_result"
    }
   ],
   "source": [
    "st.sidebar.header('User Input Parameters')"
   ]
  },
  {
   "cell_type": "markdown",
   "metadata": {},
   "source": [
    "Здесь мы объявляем функцию user_input_features(), которая берёт данные, введённые пользователем (то есть — четыре характеристики цветка, которые вводятся с использованием ползунков), и возвращает результат в виде датафрейма. Стоит отметить, что каждый входной параметр вводится в систему с помощью ползунка. Например, ползунок для ввода длины чашелистика (sepal length) описывается так: st.sidebar.slider(‘Sepal length’, 4.3, 7.9, 5.4). Первый из четырёх входных аргументов этой функции задаёт подпись ползунка, выводимую выше него. Это, в данном случае, текст Sepal length. Два следующих аргумента задают минимальное и максимальное значения, которые можно задавать с помощью ползунка. Последний аргумент задаёт значение, выставляемое на ползунке по умолчанию, при загрузке страницы. Здесь это — 5.4."
   ]
  },
  {
   "cell_type": "code",
   "execution_count": 165,
   "metadata": {},
   "outputs": [],
   "source": [
    "def user_input_features():\n",
    "    #TYPE = st.multiselect('TYPE', ('НКЛ','ВКЛ','К','Прав.треб.'))\n",
    "    BRANCH = st.sidebar.slider('BRANCH', 0.0, 1.0, 17.0)\n",
    "    PURPOSE = st.sidebar.slider('PURPOSE', 0.0, 1.0, 6.0)\n",
    "    CREDIT = st.sidebar.slider('CREDIT', 0.0, 10000.0, 1000000000.0)\n",
    "    RESTRUCTURING = st.sidebar.slider('RESTRUCTURING', 0.0, 1.0, 5.0)\n",
    "    CREDITHISTORY = st.sidebar.slider('CREDITHISTORY', 0.0, 1.0, 1.0)\n",
    "    OKATO = st.sidebar.slider('OKATO', 0.0, 10.0, 100.0)\n",
    "    AGE = st.sidebar.slider('AGE', 0.0, 5.0, 35.0)\n",
    "    LAWSUITS = st.sidebar.slider('LAWSUITS', 0.0, 10000.0, 1000000000.0)\n",
    "    EMPLOYEES = st.sidebar.slider('EMPLOYEES', 0.0, 1000.0, 300000.0)\n",
    "    EQUIPMENT = st.sidebar.slider('EQUIPMENT', 0.0, 10000.0, 1000000000.0)\n",
    "    ASSETS = st.sidebar.slider('ASSETS', 0.0, 10000.0, 1000000000.0)\n",
    "    EQUITY = st.sidebar.slider('EQUITY', 0.0, 10000.0, 238758704.0)\n",
    "    LONGTERMLOAN = st.sidebar.slider('LONGTERMLOAN', 0.0, 10000.0, 1000000000.0)\n",
    "    CURRENTLOAN = st.sidebar.slider('CURRENTLOAN', 0.0, 10000.0, 1000000000.0)\n",
    "    REVENUE = st.sidebar.slider('REVENUE', 0.0, 10000.0, 1000000000.0)\n",
    "    EBIT = st.sidebar.slider('EBIT', 0.0, 10000.0, 1000000000.0)\n",
    "    INTEREST = st.sidebar.slider('INTEREST', 0.0, 10000.0, 1000000000.0)\n",
    "    PROFIT = st.sidebar.slider('PROFIT', 0.0, 10000.0, 100000000.0)\n",
    "    LIQUIDITY = st.sidebar.slider('LIQUIDITY', 0.0, 10000.0, 10000.0)\n",
    "    EBIT_INTEREST = st.sidebar.slider('EBIT_INTEREST', 0.0, 10000.0, 10000.0)\n",
    "    DEBT_EBIT = st.sidebar.slider('DEBT_EBIT', 0.0, 10000.0, 1000.0)\n",
    "    DEBT_REVENUE = st.sidebar.slider('DEBT_REVENUE', 0.0, 10000.0, 100000.0)\n",
    "    CREDIT_REVENUE = st.sidebar.slider('DEBT_REVENUE', 0.0, 10000.0, 10000.0)\n",
    "    STABILITY = st.sidebar.slider('STABILITY', 0.0, 10000.0, 10000.0)\n",
    "    TYPE_OB = st.sidebar.slider('TYPE_OB', 0.0, 1.0, 1.0)\n",
    "    TYPE_Prava = st.sidebar.slider('TYPE_Prava', 0.0, 1.0, 1.0)\n",
    "    TYPE_VKL = st.sidebar.slider('TYPE_VKL', 0.0, 1.0, 1.0)\n",
    "    TYPE_NKL = st.sidebar.slider('TYPE_NKL', 0.0, 1.0, 1.0)\n",
    "    TYPE_K = st.sidebar.slider('TYPE_K', 0.0, 1.0, 1.0)\n",
    "    TYPE_C = st.sidebar.slider('TYPE_C', 0.0, 1.0, 1.0)\n",
    "    SEGMENT_Micro = st.sidebar.slider('SEGMENT_Micro', 0.0, 1.0, 1.0)\n",
    "    SEGMENT_MB = st.sidebar.slider('SEGMENT_MB', 0.0, 1.0, 1.0)\n",
    "    SEGMENT_CB = st.sidebar.slider('SEGMENT_CB', 0.0, 1.0, 1.0)\n",
    "    SEGMENT_KB = st.sidebar.slider('SEGMENT_KB', 0.0, 1.0, 1.0)\n",
    "    data = {'BRANCH': BRANCH,\n",
    "            'PURPOSE': PURPOSE,\n",
    "            'CREDIT': CREDIT,\n",
    "            'RESTRUCTURING': RESTRUCTURING,\n",
    "            'CREDITHISTORY': CREDITHISTORY,\n",
    "            'OKATO': OKATO,\n",
    "            'AGE': AGE,\n",
    "            'LAWSUITS': LAWSUITS,\n",
    "            'EMPLOYEES': EMPLOYEES,\n",
    "            'EQUIPMENT': EQUIPMENT,\n",
    "            'ASSETS': ASSETS,\n",
    "            'EQUITY': EQUITY,\n",
    "            'LONGTERMLOAN': LONGTERMLOAN,\n",
    "            'CURRENTLOAN': CURRENTLOAN,\n",
    "            'REVENUE': REVENUE,\n",
    "            'EBIT': EBIT,\n",
    "            'INTEREST': INTEREST,\n",
    "            'PROFIT': PROFIT,\n",
    "            'LIQUIDITY': LIQUIDITY,\n",
    "            'EBIT_INTEREST': EBIT_INTEREST,\n",
    "            'DEBT_EBIT': DEBT_EBIT,\n",
    "            'DEBT_REVENUE': DEBT_REVENUE,\n",
    "            'CREDIT_REVENUE': CREDIT_REVENUE,\n",
    "            'STABILITY': STABILITY,\n",
    "            'TYPE_OB': TYPE_OB,\n",
    "            'TYPE_Prava': TYPE_Prava,\n",
    "            'TYPE_VKL': TYPE_VKL,\n",
    "            'TYPE_NKL': TYPE_NKL,\n",
    "            'TYPE_K': TYPE_K,\n",
    "            'TYPE_C': TYPE_C,\n",
    "            'SEGMENT_Micro': SEGMENT_Micro,\n",
    "            'SEGMENT_MB': SEGMENT_MB,\n",
    "            'SEGMENT_CB': SEGMENT_CB,\n",
    "            'SEGMENT_KB': SEGMENT_KB\n",
    "            \n",
    "            }\n",
    "    features = pd.DataFrame(data, index=[0])\n",
    "    return features"
   ]
  },
  {
   "cell_type": "code",
   "execution_count": 166,
   "metadata": {},
   "outputs": [],
   "source": [
    "df_user = user_input_features()"
   ]
  },
  {
   "cell_type": "markdown",
   "metadata": {},
   "source": [
    "#Здесь датафрейм, сформированный функцией user_input_features() записываем в переменную df."
   ]
  },
  {
   "cell_type": "code",
   "execution_count": 186,
   "metadata": {},
   "outputs": [],
   "source": [
    "df = pd.read_csv(\"DATASET_2.csv\", nrows=500)\n",
    "df.drop(['RATING'], axis=1, inplace=True)"
   ]
  },
  {
   "cell_type": "code",
   "execution_count": 187,
   "metadata": {},
   "outputs": [],
   "source": [
    "df_mean = df.mean()\n",
    "df.fillna(df_mean, inplace=True)"
   ]
  },
  {
   "cell_type": "code",
   "execution_count": 188,
   "metadata": {},
   "outputs": [
    {
     "data": {
      "text/html": [
       "<div>\n",
       "<style scoped>\n",
       "    .dataframe tbody tr th:only-of-type {\n",
       "        vertical-align: middle;\n",
       "    }\n",
       "\n",
       "    .dataframe tbody tr th {\n",
       "        vertical-align: top;\n",
       "    }\n",
       "\n",
       "    .dataframe thead th {\n",
       "        text-align: right;\n",
       "    }\n",
       "</style>\n",
       "<table border=\"1\" class=\"dataframe\">\n",
       "  <thead>\n",
       "    <tr style=\"text-align: right;\">\n",
       "      <th></th>\n",
       "      <th>BRANCH</th>\n",
       "      <th>PURPOSE</th>\n",
       "      <th>CREDIT</th>\n",
       "      <th>DEFAULT</th>\n",
       "      <th>RESTRUCTURING</th>\n",
       "      <th>CREDITHISTORY</th>\n",
       "      <th>OKATO</th>\n",
       "      <th>AGE</th>\n",
       "      <th>LAWSUITS</th>\n",
       "      <th>EMPLOYEES</th>\n",
       "      <th>...</th>\n",
       "      <th>SEGMENT_CB</th>\n",
       "      <th>SEGMENT_KB</th>\n",
       "      <th>SEGMENT_MB</th>\n",
       "      <th>SEGMENT_Micro</th>\n",
       "      <th>TYPE_C</th>\n",
       "      <th>TYPE_K</th>\n",
       "      <th>TYPE_NKL</th>\n",
       "      <th>TYPE_OB</th>\n",
       "      <th>TYPE_Prava</th>\n",
       "      <th>TYPE_VKL</th>\n",
       "    </tr>\n",
       "  </thead>\n",
       "  <tbody>\n",
       "    <tr>\n",
       "      <th>0</th>\n",
       "      <td>12.0</td>\n",
       "      <td>6</td>\n",
       "      <td>1100.0</td>\n",
       "      <td>0</td>\n",
       "      <td>0</td>\n",
       "      <td>1</td>\n",
       "      <td>92.0</td>\n",
       "      <td>17.5</td>\n",
       "      <td>19.372</td>\n",
       "      <td>12</td>\n",
       "      <td>...</td>\n",
       "      <td>1</td>\n",
       "      <td>0</td>\n",
       "      <td>0</td>\n",
       "      <td>0</td>\n",
       "      <td>0</td>\n",
       "      <td>0</td>\n",
       "      <td>1</td>\n",
       "      <td>0</td>\n",
       "      <td>0</td>\n",
       "      <td>0</td>\n",
       "    </tr>\n",
       "    <tr>\n",
       "      <th>1</th>\n",
       "      <td>6.0</td>\n",
       "      <td>1</td>\n",
       "      <td>10000.0</td>\n",
       "      <td>1</td>\n",
       "      <td>0</td>\n",
       "      <td>1</td>\n",
       "      <td>80.0</td>\n",
       "      <td>18.0</td>\n",
       "      <td>504.981</td>\n",
       "      <td>51</td>\n",
       "      <td>...</td>\n",
       "      <td>0</td>\n",
       "      <td>0</td>\n",
       "      <td>1</td>\n",
       "      <td>0</td>\n",
       "      <td>0</td>\n",
       "      <td>0</td>\n",
       "      <td>0</td>\n",
       "      <td>0</td>\n",
       "      <td>0</td>\n",
       "      <td>1</td>\n",
       "    </tr>\n",
       "    <tr>\n",
       "      <th>2</th>\n",
       "      <td>9.0</td>\n",
       "      <td>0</td>\n",
       "      <td>15000.0</td>\n",
       "      <td>0</td>\n",
       "      <td>0</td>\n",
       "      <td>1</td>\n",
       "      <td>92.0</td>\n",
       "      <td>18.5</td>\n",
       "      <td>0.000</td>\n",
       "      <td>117</td>\n",
       "      <td>...</td>\n",
       "      <td>1</td>\n",
       "      <td>0</td>\n",
       "      <td>0</td>\n",
       "      <td>0</td>\n",
       "      <td>0</td>\n",
       "      <td>0</td>\n",
       "      <td>0</td>\n",
       "      <td>1</td>\n",
       "      <td>0</td>\n",
       "      <td>0</td>\n",
       "    </tr>\n",
       "    <tr>\n",
       "      <th>3</th>\n",
       "      <td>11.0</td>\n",
       "      <td>1</td>\n",
       "      <td>100000.0</td>\n",
       "      <td>0</td>\n",
       "      <td>0</td>\n",
       "      <td>1</td>\n",
       "      <td>73.0</td>\n",
       "      <td>14.0</td>\n",
       "      <td>0.000</td>\n",
       "      <td>218</td>\n",
       "      <td>...</td>\n",
       "      <td>1</td>\n",
       "      <td>0</td>\n",
       "      <td>0</td>\n",
       "      <td>0</td>\n",
       "      <td>0</td>\n",
       "      <td>0</td>\n",
       "      <td>0</td>\n",
       "      <td>0</td>\n",
       "      <td>0</td>\n",
       "      <td>1</td>\n",
       "    </tr>\n",
       "    <tr>\n",
       "      <th>4</th>\n",
       "      <td>17.0</td>\n",
       "      <td>2</td>\n",
       "      <td>8148.0</td>\n",
       "      <td>0</td>\n",
       "      <td>0</td>\n",
       "      <td>1</td>\n",
       "      <td>97.0</td>\n",
       "      <td>19.0</td>\n",
       "      <td>3374.203</td>\n",
       "      <td>402</td>\n",
       "      <td>...</td>\n",
       "      <td>0</td>\n",
       "      <td>1</td>\n",
       "      <td>0</td>\n",
       "      <td>0</td>\n",
       "      <td>0</td>\n",
       "      <td>1</td>\n",
       "      <td>0</td>\n",
       "      <td>0</td>\n",
       "      <td>0</td>\n",
       "      <td>0</td>\n",
       "    </tr>\n",
       "  </tbody>\n",
       "</table>\n",
       "<p>5 rows × 35 columns</p>\n",
       "</div>"
      ],
      "text/plain": [
       "   BRANCH  PURPOSE    CREDIT  DEFAULT  RESTRUCTURING  CREDITHISTORY  OKATO  \\\n",
       "0    12.0        6    1100.0        0              0              1   92.0   \n",
       "1     6.0        1   10000.0        1              0              1   80.0   \n",
       "2     9.0        0   15000.0        0              0              1   92.0   \n",
       "3    11.0        1  100000.0        0              0              1   73.0   \n",
       "4    17.0        2    8148.0        0              0              1   97.0   \n",
       "\n",
       "    AGE  LAWSUITS  EMPLOYEES  ...  SEGMENT_CB  SEGMENT_KB  SEGMENT_MB  \\\n",
       "0  17.5    19.372         12  ...           1           0           0   \n",
       "1  18.0   504.981         51  ...           0           0           1   \n",
       "2  18.5     0.000        117  ...           1           0           0   \n",
       "3  14.0     0.000        218  ...           1           0           0   \n",
       "4  19.0  3374.203        402  ...           0           1           0   \n",
       "\n",
       "   SEGMENT_Micro  TYPE_C  TYPE_K  TYPE_NKL  TYPE_OB  TYPE_Prava  TYPE_VKL  \n",
       "0              0       0       0         1        0           0         0  \n",
       "1              0       0       0         0        0           0         1  \n",
       "2              0       0       0         0        1           0         0  \n",
       "3              0       0       0         0        0           0         1  \n",
       "4              0       0       1         0        0           0         0  \n",
       "\n",
       "[5 rows x 35 columns]"
      ]
     },
     "execution_count": 188,
     "metadata": {},
     "output_type": "execute_result"
    }
   ],
   "source": [
    "#работаем с текстовыми колонками\n",
    "text_features = ['SEGMENT', 'TYPE']    \n",
    "df = pd.get_dummies(data=df, columns=text_features)\n",
    "#df.head()"
   ]
  },
  {
   "cell_type": "code",
   "execution_count": 160,
   "metadata": {},
   "outputs": [
    {
     "name": "stdout",
     "output_type": "stream",
     "text": [
      "<class 'pandas.core.frame.DataFrame'>\n",
      "RangeIndex: 435 entries, 0 to 434\n",
      "Data columns (total 35 columns):\n",
      " #   Column          Non-Null Count  Dtype  \n",
      "---  ------          --------------  -----  \n",
      " 0   BRANCH          435 non-null    float64\n",
      " 1   PURPOSE         435 non-null    int64  \n",
      " 2   CREDIT          435 non-null    float64\n",
      " 3   DEFAULT         435 non-null    int64  \n",
      " 4   RESTRUCTURING   435 non-null    int64  \n",
      " 5   CREDITHISTORY   435 non-null    int64  \n",
      " 6   OKATO           435 non-null    float64\n",
      " 7   AGE             435 non-null    float64\n",
      " 8   LAWSUITS        435 non-null    float64\n",
      " 9   EMPLOYEES       435 non-null    int64  \n",
      " 10  EQUIPMENT       435 non-null    int64  \n",
      " 11  ASSETS          435 non-null    int64  \n",
      " 12  EQUITY          435 non-null    int64  \n",
      " 13  LONGTERMLOAN    435 non-null    int64  \n",
      " 14  CURRENTLOAN     435 non-null    int64  \n",
      " 15  REVENUE         435 non-null    float64\n",
      " 16  EBIT            435 non-null    int64  \n",
      " 17  INTEREST        435 non-null    int64  \n",
      " 18  PROFIT          435 non-null    int64  \n",
      " 19  LIQUIDITY       435 non-null    float64\n",
      " 20  EBIT_INTEREST   435 non-null    float64\n",
      " 21  DEBT_EBIT       435 non-null    float64\n",
      " 22  DEBT_REVENUE    435 non-null    float64\n",
      " 23  CREDIT_REVENUE  435 non-null    float64\n",
      " 24  STABILITY       435 non-null    float64\n",
      " 25  SEGMENT_CB      435 non-null    uint8  \n",
      " 26  SEGMENT_KB      435 non-null    uint8  \n",
      " 27  SEGMENT_MB      435 non-null    uint8  \n",
      " 28  SEGMENT_Micro   435 non-null    uint8  \n",
      " 29  TYPE_C          435 non-null    uint8  \n",
      " 30  TYPE_K          435 non-null    uint8  \n",
      " 31  TYPE_NKL        435 non-null    uint8  \n",
      " 32  TYPE_OB         435 non-null    uint8  \n",
      " 33  TYPE_Prava      435 non-null    uint8  \n",
      " 34  TYPE_VKL        435 non-null    uint8  \n",
      "dtypes: float64(12), int64(13), uint8(10)\n",
      "memory usage: 89.3 KB\n"
     ]
    }
   ],
   "source": [
    "#df.info()"
   ]
  },
  {
   "cell_type": "code",
   "execution_count": 136,
   "metadata": {},
   "outputs": [],
   "source": [
    "#train_data.head()"
   ]
  },
  {
   "cell_type": "code",
   "execution_count": 137,
   "metadata": {},
   "outputs": [],
   "source": [
    "#dummies.describe()"
   ]
  },
  {
   "cell_type": "markdown",
   "metadata": {},
   "source": [
    "Загрузка набора данных Iris из пакета sklearn.datasets и запись его в переменную iris."
   ]
  },
  {
   "cell_type": "markdown",
   "metadata": {},
   "source": [
    "Создание переменной Х, содержащей сведения о 4 характеристиках цветка, которые имеются в iris.data.\n",
    "\n",
    "\n",
    "Создание переменной Y, которая содержит сведения о виде цветка. Эти сведения хранятся в iris.target."
   ]
  },
  {
   "cell_type": "code",
   "execution_count": 194,
   "metadata": {},
   "outputs": [],
   "source": [
    "from sklearn.model_selection import train_test_split, StratifiedKFold\n",
    "Y = df['DEFAULT']\n",
    "X = df.drop(['DEFAULT'], axis=1)\n",
    "#X = df.drop(['DEFAULT'], axis=1, inplace=True)\n",
    "X_train, X_test, y_train, y_test = train_test_split(X, Y, test_size=0.3,  random_state=17)"
   ]
  },
  {
   "cell_type": "code",
   "execution_count": 191,
   "metadata": {},
   "outputs": [
    {
     "ename": "AttributeError",
     "evalue": "'Series' object has no attribute 'info'",
     "output_type": "error",
     "traceback": [
      "\u001b[1;31m---------------------------------------------------------------------------\u001b[0m",
      "\u001b[1;31mAttributeError\u001b[0m                            Traceback (most recent call last)",
      "\u001b[1;32m<ipython-input-191-58c24aef9427>\u001b[0m in \u001b[0;36m<module>\u001b[1;34m\u001b[0m\n\u001b[0;32m      1\u001b[0m \u001b[1;31m#Y.shape\u001b[0m\u001b[1;33m\u001b[0m\u001b[1;33m\u001b[0m\u001b[1;33m\u001b[0m\u001b[0m\n\u001b[1;32m----> 2\u001b[1;33m \u001b[0my_train\u001b[0m\u001b[1;33m.\u001b[0m\u001b[0minfo\u001b[0m\u001b[1;33m(\u001b[0m\u001b[1;33m)\u001b[0m\u001b[1;33m\u001b[0m\u001b[1;33m\u001b[0m\u001b[0m\n\u001b[0m",
      "\u001b[1;32mC:\\ProgramData\\Anaconda3\\lib\\site-packages\\pandas\\core\\generic.py\u001b[0m in \u001b[0;36m__getattr__\u001b[1;34m(self, name)\u001b[0m\n\u001b[0;32m   5137\u001b[0m             \u001b[1;32mif\u001b[0m \u001b[0mself\u001b[0m\u001b[1;33m.\u001b[0m\u001b[0m_info_axis\u001b[0m\u001b[1;33m.\u001b[0m\u001b[0m_can_hold_identifiers_and_holds_name\u001b[0m\u001b[1;33m(\u001b[0m\u001b[0mname\u001b[0m\u001b[1;33m)\u001b[0m\u001b[1;33m:\u001b[0m\u001b[1;33m\u001b[0m\u001b[1;33m\u001b[0m\u001b[0m\n\u001b[0;32m   5138\u001b[0m                 \u001b[1;32mreturn\u001b[0m \u001b[0mself\u001b[0m\u001b[1;33m[\u001b[0m\u001b[0mname\u001b[0m\u001b[1;33m]\u001b[0m\u001b[1;33m\u001b[0m\u001b[1;33m\u001b[0m\u001b[0m\n\u001b[1;32m-> 5139\u001b[1;33m             \u001b[1;32mreturn\u001b[0m \u001b[0mobject\u001b[0m\u001b[1;33m.\u001b[0m\u001b[0m__getattribute__\u001b[0m\u001b[1;33m(\u001b[0m\u001b[0mself\u001b[0m\u001b[1;33m,\u001b[0m \u001b[0mname\u001b[0m\u001b[1;33m)\u001b[0m\u001b[1;33m\u001b[0m\u001b[1;33m\u001b[0m\u001b[0m\n\u001b[0m\u001b[0;32m   5140\u001b[0m \u001b[1;33m\u001b[0m\u001b[0m\n\u001b[0;32m   5141\u001b[0m     \u001b[1;32mdef\u001b[0m \u001b[0m__setattr__\u001b[0m\u001b[1;33m(\u001b[0m\u001b[0mself\u001b[0m\u001b[1;33m,\u001b[0m \u001b[0mname\u001b[0m\u001b[1;33m:\u001b[0m \u001b[0mstr\u001b[0m\u001b[1;33m,\u001b[0m \u001b[0mvalue\u001b[0m\u001b[1;33m)\u001b[0m \u001b[1;33m->\u001b[0m \u001b[1;32mNone\u001b[0m\u001b[1;33m:\u001b[0m\u001b[1;33m\u001b[0m\u001b[1;33m\u001b[0m\u001b[0m\n",
      "\u001b[1;31mAttributeError\u001b[0m: 'Series' object has no attribute 'info'"
     ]
    }
   ],
   "source": [
    "#Y.shape\n",
    "#y_train.info()"
   ]
  },
  {
   "cell_type": "code",
   "execution_count": 183,
   "metadata": {},
   "outputs": [
    {
     "ename": "AttributeError",
     "evalue": "'NoneType' object has no attribute 'info'",
     "output_type": "error",
     "traceback": [
      "\u001b[1;31m---------------------------------------------------------------------------\u001b[0m",
      "\u001b[1;31mAttributeError\u001b[0m                            Traceback (most recent call last)",
      "\u001b[1;32m<ipython-input-183-942fccd6cb87>\u001b[0m in \u001b[0;36m<module>\u001b[1;34m\u001b[0m\n\u001b[0;32m      1\u001b[0m \u001b[1;31m#X = dummies.drop('DEFAULT', axis=1)\u001b[0m\u001b[1;33m\u001b[0m\u001b[1;33m\u001b[0m\u001b[1;33m\u001b[0m\u001b[0m\n\u001b[0;32m      2\u001b[0m \u001b[1;31m#X.shape\u001b[0m\u001b[1;33m\u001b[0m\u001b[1;33m\u001b[0m\u001b[1;33m\u001b[0m\u001b[0m\n\u001b[1;32m----> 3\u001b[1;33m \u001b[0mX\u001b[0m\u001b[1;33m.\u001b[0m\u001b[0minfo\u001b[0m\u001b[1;33m(\u001b[0m\u001b[1;33m)\u001b[0m\u001b[1;33m\u001b[0m\u001b[1;33m\u001b[0m\u001b[0m\n\u001b[0m",
      "\u001b[1;31mAttributeError\u001b[0m: 'NoneType' object has no attribute 'info'"
     ]
    }
   ],
   "source": [
    "#X = dummies.drop('DEFAULT', axis=1)\n",
    "#X.shape\n",
    "#X.info()"
   ]
  },
  {
   "cell_type": "markdown",
   "metadata": {},
   "source": [
    "\n",
    "Здесь мы, пользуясь функцией RandomForestClassifier(), назначаем классификатор, основанный на алгоритме «случайный лес», переменной clf"
   ]
  },
  {
   "cell_type": "code",
   "execution_count": 195,
   "metadata": {},
   "outputs": [
    {
     "data": {
      "text/plain": [
       "DecisionTreeClassifier(ccp_alpha=0.0, class_weight=None, criterion='gini',\n",
       "                       max_depth=None, max_features=None, max_leaf_nodes=None,\n",
       "                       min_impurity_decrease=0.0, min_impurity_split=None,\n",
       "                       min_samples_leaf=1, min_samples_split=2,\n",
       "                       min_weight_fraction_leaf=0.0, presort='deprecated',\n",
       "                       random_state=17, splitter='best')"
      ]
     },
     "execution_count": 195,
     "metadata": {},
     "output_type": "execute_result"
    }
   ],
   "source": [
    "from sklearn.tree import DecisionTreeClassifier\n",
    "random_forest_model = DecisionTreeClassifier(random_state=17)\n",
    "random_forest_model"
   ]
  },
  {
   "cell_type": "markdown",
   "metadata": {},
   "source": [
    "Здесь мы, пользуясь функцией RandomForestClassifier(), назначаем классификатор, основанный на алгоритме «случайный лес», переменной clf."
   ]
  },
  {
   "cell_type": "code",
   "execution_count": 196,
   "metadata": {},
   "outputs": [
    {
     "data": {
      "text/plain": [
       "DecisionTreeClassifier(ccp_alpha=0.0, class_weight=None, criterion='gini',\n",
       "                       max_depth=None, max_features=None, max_leaf_nodes=None,\n",
       "                       min_impurity_decrease=0.0, min_impurity_split=None,\n",
       "                       min_samples_leaf=1, min_samples_split=2,\n",
       "                       min_weight_fraction_leaf=0.0, presort='deprecated',\n",
       "                       random_state=17, splitter='best')"
      ]
     },
     "execution_count": 196,
     "metadata": {},
     "output_type": "execute_result"
    }
   ],
   "source": [
    "random_forest_model.fit(X_train, y_train)"
   ]
  },
  {
   "cell_type": "markdown",
   "metadata": {},
   "source": [
    "\n",
    "Получение сведений о виде цветка с помощью обученной модели."
   ]
  },
  {
   "cell_type": "code",
   "execution_count": 197,
   "metadata": {},
   "outputs": [],
   "source": [
    "prediction = random_forest_model.predict(df_user)"
   ]
  },
  {
   "cell_type": "markdown",
   "metadata": {},
   "source": [
    "\n",
    "Получение сведений о прогностической вероятности."
   ]
  },
  {
   "cell_type": "code",
   "execution_count": 199,
   "metadata": {},
   "outputs": [],
   "source": [
    "prediction_proba = random_forest_model.predict_proba(df_user)"
   ]
  },
  {
   "cell_type": "markdown",
   "metadata": {},
   "source": [
    "# Формирование основной панели"
   ]
  },
  {
   "cell_type": "code",
   "execution_count": null,
   "metadata": {},
   "outputs": [],
   "source": []
  },
  {
   "cell_type": "markdown",
   "metadata": {},
   "source": [
    "Здесь мы, пользуясь функцией st.write(), выводим текст. А именно, речь идёт о заголовке, выводимом в главной панели приложения, текст которого задан в формате Markdown. Символ # используется для указания того, что текст является заголовком. За строкой заголовка идёт строка обычного текста"
   ]
  },
  {
   "cell_type": "code",
   "execution_count": 200,
   "metadata": {},
   "outputs": [],
   "source": [
    "st.write(\"\"\"\n",
    "# Simple Credid Scoring App\n",
    "This app predicts the **Scoring** type!\n",
    "\"\"\")"
   ]
  },
  {
   "cell_type": "markdown",
   "metadata": {},
   "source": [
    "В этой строке, пользуясь функцией st.subheader(), мы указываем подзаголовок, выводимый в основной панели. Этот подзаголовок используется для оформления раздела страницы, в котором будет выведено содержимое датафрейма, то есть того, что было введено пользователем с помощью ползунков."
   ]
  },
  {
   "cell_type": "code",
   "execution_count": 201,
   "metadata": {},
   "outputs": [],
   "source": [
    "st.write(df_user)"
   ]
  },
  {
   "cell_type": "markdown",
   "metadata": {},
   "source": [
    "Этой командой мы выводим на основную панель содержимое датафрейма df."
   ]
  },
  {
   "cell_type": "code",
   "execution_count": 203,
   "metadata": {},
   "outputs": [
    {
     "data": {
      "text/plain": [
       "<streamlit.delta_generator.DeltaGenerator at 0x126857ecf88>"
      ]
     },
     "execution_count": 203,
     "metadata": {},
     "output_type": "execute_result"
    }
   ],
   "source": [
    "st.subheader('Will there be a delay of more than 30 days')"
   ]
  },
  {
   "cell_type": "markdown",
   "metadata": {},
   "source": [
    "\n",
    "Данный код описывает второй подзаголовок основной панели. В этом разделе будут выведены данные о видах цветков."
   ]
  },
  {
   "cell_type": "code",
   "execution_count": 206,
   "metadata": {},
   "outputs": [],
   "source": [
    "st.write(train_data.DEFAULT)"
   ]
  },
  {
   "cell_type": "markdown",
   "metadata": {},
   "source": [
    "здесь, во второй раздел основной панели, выводятся названия видов цветков (setosa, versicolor и virginica) и соответствующие им номера (0, 1, 2)"
   ]
  },
  {
   "cell_type": "code",
   "execution_count": 204,
   "metadata": {},
   "outputs": [
    {
     "data": {
      "text/plain": [
       "<streamlit.delta_generator.DeltaGenerator at 0x126857ecf88>"
      ]
     },
     "execution_count": 204,
     "metadata": {},
     "output_type": "execute_result"
    }
   ],
   "source": [
    "st.subheader('Prediction')"
   ]
  },
  {
   "cell_type": "markdown",
   "metadata": {},
   "source": [
    "Вывод третьего подзаголовка для раздела, в котором будет находиться результат классификации."
   ]
  },
  {
   "cell_type": "markdown",
   "metadata": {},
   "source": [
    "Вывод результата классификации. Стоит отметить, что содержимое переменной prediction — это номер вида цветка, выданный моделью на основе входных данных, введённых пользователем. Для того чтобы вывести название вида, используется конструкция iris.target_names[prediction]."
   ]
  },
  {
   "cell_type": "code",
   "execution_count": 205,
   "metadata": {},
   "outputs": [],
   "source": [
    "st.write(train_data.DEFAULT[prediction])"
   ]
  },
  {
   "cell_type": "markdown",
   "metadata": {},
   "source": [
    "Выводим заголовок четвёртого (и последнего) раздела основной панели. Здесь будут представлены данные о прогностической вероятности.\n"
   ]
  },
  {
   "cell_type": "code",
   "execution_count": 207,
   "metadata": {},
   "outputs": [
    {
     "data": {
      "text/plain": [
       "<streamlit.delta_generator.DeltaGenerator at 0x126857ecf88>"
      ]
     },
     "execution_count": 207,
     "metadata": {},
     "output_type": "execute_result"
    }
   ],
   "source": [
    "st.subheader('Prediction Probability')"
   ]
  },
  {
   "cell_type": "markdown",
   "metadata": {},
   "source": [
    "Вывод данных о прогностической вероятности."
   ]
  },
  {
   "cell_type": "code",
   "execution_count": 208,
   "metadata": {},
   "outputs": [],
   "source": [
    "st.write(prediction_proba)"
   ]
  },
  {
   "cell_type": "markdown",
   "metadata": {},
   "source": [
    "# Запуск веб-приложения"
   ]
  },
  {
   "cell_type": "code",
   "execution_count": 99,
   "metadata": {},
   "outputs": [],
   "source": [
    "##streamlit run iris-ml-app.py"
   ]
  },
  {
   "cell_type": "code",
   "execution_count": null,
   "metadata": {},
   "outputs": [],
   "source": []
  },
  {
   "cell_type": "markdown",
   "metadata": {},
   "source": [
    "## Задание. Развернуть модель для задачи кредитного скоринга"
   ]
  },
  {
   "cell_type": "code",
   "execution_count": null,
   "metadata": {},
   "outputs": [],
   "source": []
  },
  {
   "cell_type": "code",
   "execution_count": null,
   "metadata": {},
   "outputs": [],
   "source": []
  },
  {
   "cell_type": "markdown",
   "metadata": {},
   "source": [
    "Просмотреть и добавить \n",
    "\n",
    "Создание и развертывание веб-приложений машинного обучения с использованием Pycaret, Streamlit и Heroku   \n",
    "    \n",
    "    https://analyticsindiamag.com/guide-to-building-and-deploying-ml-web-applications-using-pycaret-streamlit-and-heroku/"
   ]
  },
  {
   "cell_type": "markdown",
   "metadata": {},
   "source": [
    "Примеры\n",
    "https://leaveprediction.herokuapp.com/\n",
    "    \n",
    "    \n",
    "Установка\n",
    "\n",
    "https://docs.streamlit.io/en/stable/installation.html\n",
    "\n",
    "\n",
    "Пример разработки приложения\n",
    "\n",
    "https://docs.streamlit.io/en/stable/tutorial/create_a_data_explorer_app.html#\n",
    "\n",
    "\n",
    "https://ichi.pro/ru/kak-sozdat-prilozenie-dla-klassifikacii-izobrazenij-s-ispol-zovaniem-logisticeskoj-regressii-i-myslenia-nejronnoj-seti-33604303553365\n",
    "\n",
    "\n",
    "Как развернуть приложение\n",
    "\n",
    "https://docs.streamlit.io/en/stable/deploy_streamlit_app.html\n",
    "\n",
    "https://medium.com/bloggers-bay/give-life-to-your-data-science-apps-using-streamlit-9b61dfe1085d\n",
    "\n",
    "https://nuancesprog.ru/p/5097/\n",
    "\n",
    "https://blog.skillfactory.ru/nauka-o-dannyh-data-science/kak-napisat-veb-prilozhenie-dlya-demonstratsii-data-science-proekta-na-python/\n"
   ]
  }
 ],
 "metadata": {
  "kernelspec": {
   "display_name": "Python 3",
   "language": "python",
   "name": "python3"
  },
  "language_info": {
   "codemirror_mode": {
    "name": "ipython",
    "version": 3
   },
   "file_extension": ".py",
   "mimetype": "text/x-python",
   "name": "python",
   "nbconvert_exporter": "python",
   "pygments_lexer": "ipython3",
   "version": "3.7.6"
  }
 },
 "nbformat": 4,
 "nbformat_minor": 4
}
